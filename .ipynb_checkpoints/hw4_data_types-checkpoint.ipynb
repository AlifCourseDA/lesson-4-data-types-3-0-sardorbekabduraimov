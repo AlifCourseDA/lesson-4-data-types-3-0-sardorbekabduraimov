{
 "cells": [
  {
   "attachments": {
    "image-2.png": {
     "image/png": "[encoded data removed]"
    }
   },
   "cell_type": "markdown",
   "id": "72604ce5",
   "metadata": {
    "slideshow": {
     "slide_type": "slide"
    }
   },
   "source": [
    "![image-2.png](attachment:image-2.png)"
   ]
  },
  {
   "cell_type": "markdown",
   "id": "00dd6fb6",
   "metadata": {
    "slideshow": {
     "slide_type": "fragment"
    }
   },
   "source": [
    "# HW 4: Data Types 3.0 \n",
    "\n"
   ]
  },
  {
   "cell_type": "markdown",
   "id": "55f111b2",
   "metadata": {},
   "source": [
    "В этом домашнем задании предлагаю вам решить задачи из учебника Яндекс :)\n",
    "\n",
    "- \n",
    "    \n",
    "    **Строки, кортежи и списки:**\n",
    "    \n",
    "    [Азбука](https://new.contest.yandex.ru/41237/problem?id=149944/2022_10_13/Rqerjkkkal)\n",
    "    \n",
    "    [Анонс новости](https://new.contest.yandex.ru/41237/problem?id=149944/2022_10_13/qCXhJgNHI9)\n",
    "    \n",
    "    [Очистка данных](https://new.contest.yandex.ru/41237/problem?id=149944/2022_10_13/OgIDCS3i0M)\n",
    "    \n",
    "    [Без комментариев](https://new.contest.yandex.ru/41237/problem?id=149944/2022_10_13/xN8A0sVDQd)\n",
    "    \n",
    "    [Частотный анализ на минималках](https://new.contest.yandex.ru/41237/problem?id=149944/2022_10_13/fCcQ3iQzrD)\n",
    "    \n",
    "    [Массовое возведение в степень](https://new.contest.yandex.ru/41237/problem?id=149944/2022_10_13/YOO7ZFJH4A)\n",
    "    \n",
    "    [НОД](https://new.contest.yandex.ru/41237/problem?id=149944/2022_10_13/cXCfPpVk3a)\n",
    "    \n",
    "    [RLE](https://new.contest.yandex.ru/41237/problem?id=149944/2022_10_13/R3wYYWsSR8)\n",
    "    \n",
    "    **Множества, словари:**\n",
    "    \n",
    "    [Символическая разница](https://new.contest.yandex.ru/41238/problem?id=149944/2022_10_13/O36RTF4IwF)\n",
    "    \n",
    "    [Зайцы](https://new.contest.yandex.ru/41238/problem?id=149944/2022_10_13/JnnhhAewGx)\n",
    "    \n",
    "    [Кашееды](https://new.contest.yandex.ru/41238/problem?id=149944/2022_10_13/AZM9pHPP61)\n",
    "    \n",
    "    [Зайцы (другая задача)](https://new.contest.yandex.ru/41238/problem?id=149944/2022_10_13/Tvk8oartND)\n",
    "    \n",
    "    [Транслитерация](https://new.contest.yandex.ru/41238/problem?id=149944/2022_10_13/9T6sXF8RWo)\n",
    "    \n",
    "    [Однофамильцы](https://new.contest.yandex.ru/41238/problem?id=149944/2022_10_13/s6Jxtvde9U)\n",
    "    \n",
    "    [Простая задача](https://new.contest.yandex.ru/41238/problem?id=149944/2022_10_13/wrBaAxOEFH)\n",
    "    \n",
    "    [Друзья друзей](https://new.contest.yandex.ru/41238/problem?id=149944/2022_10_13/Z4TZboVPOx)\n",
    "    \n",
    "    **Списочные выражения:**\n",
    "    \n",
    "    [Решить все задачи по списочным выражениям](https://new.contest.yandex.ru/41239/start)"
   ]
  },
  {
   "cell_type": "markdown",
   "id": "40388de3",
   "metadata": {},
   "source": [
    "# Строки, кортежи и списки:"
   ]
  },
  {
   "cell_type": "markdown",
   "id": "986af681",
   "metadata": {},
   "source": [
    "## Азбука"
   ]
  },
  {
   "cell_type": "code",
   "execution_count": null,
   "id": "04216a8e",
   "metadata": {},
   "outputs": [],
   "source": [
    "N = int(input())\n",
    "\n",
    "res = 'YES'\n",
    "\n",
    "for i in range(N):\n",
    "    word = input()\n",
    "    if not word[0] in ('а', 'б', 'в'):\n",
    "        res = 'NO'\n",
    "\n",
    "print(res)\n"
   ]
  },
  {
   "cell_type": "markdown",
   "id": "4d3d937b",
   "metadata": {},
   "source": [
    "## Анонс новости"
   ]
  },
  {
   "cell_type": "code",
   "execution_count": null,
   "id": "ee2686db",
   "metadata": {},
   "outputs": [],
   "source": [
    "L = int(input())\n",
    "N = int(input())\n",
    "words = []\n",
    "\n",
    "for i in range(N):\n",
    "    word = input()\n",
    "    if len(word) > L:\n",
    "        word = word[0:L - 3] + '...'\n",
    "    words.append(word)\n",
    "\n",
    "for word in words:\n",
    "    print(word)"
   ]
  },
  {
   "cell_type": "markdown",
   "id": "4d23beee",
   "metadata": {},
   "source": [
    "## Очистка данных"
   ]
  },
  {
   "cell_type": "code",
   "execution_count": null,
   "id": "756242f7",
   "metadata": {},
   "outputs": [],
   "source": [
    "ans = []\n",
    "\n",
    "while (mes := input()):\n",
    "    if mes == '':\n",
    "        break\n",
    "    elif mes[-3:] == '@@@':\n",
    "        continue\n",
    "    if mes[0:2] == '##':\n",
    "        mes = mes[2:]\n",
    "    ans.append(mes)\n",
    "\n",
    "for mes in ans:\n",
    "    print(mes)"
   ]
  },
  {
   "cell_type": "markdown",
   "id": "9cec25e5",
   "metadata": {},
   "source": [
    "## Без комментариев"
   ]
  },
  {
   "cell_type": "code",
   "execution_count": null,
   "id": "c9801a94",
   "metadata": {},
   "outputs": [],
   "source": [
    "without_comments = []\n",
    "while (raw := input()):\n",
    "    if raw == '':\n",
    "        break\n",
    "    pos = raw.find('#')\n",
    "    if pos != -1:\n",
    "        raw = raw[:pos]\n",
    "    if len(raw) > 0:\n",
    "        without_comments.append(raw)\n",
    "for raw in without_comments:\n",
    "    print(raw)"
   ]
  },
  {
   "cell_type": "markdown",
   "id": "1f96955d",
   "metadata": {},
   "source": [
    "## Частотный анализ на минималках"
   ]
  },
  {
   "cell_type": "code",
   "execution_count": null,
   "id": "ea0bcdce",
   "metadata": {},
   "outputs": [],
   "source": [
    "all_words = ''\n",
    "\n",
    "while (word := input()):\n",
    "    if (word == 'ФИНИШ'):\n",
    "        break\n",
    "    all_words += word\n",
    "all_words = all_words.lower()\n",
    "char_to_remove = ' '\n",
    "all_words = ''.join(char for char in all_words if char != char_to_remove)\n",
    "all_letters = set(all_words)\n",
    "letters_count = dict.fromkeys(all_letters, 0)\n",
    "for i in all_words:\n",
    "    letters_count[i] += 1\n",
    "sorted_letters_count = dict(sorted(letters_count.items(), key=lambda item: item[1], reverse=True))\n",
    "flag = True\n",
    "for i, (k, v) in enumerate(sorted_letters_count.items()):\n",
    "    if i == 0:\n",
    "        max_val = v\n",
    "        max_val_key = k\n",
    "    elif max_val == v:\n",
    "            if ord(max_val_key) > ord(k):\n",
    "                max_val_key = k\n",
    "\n",
    "print(max_val_key)\n"
   ]
  },
  {
   "cell_type": "markdown",
   "id": "cbcfc726",
   "metadata": {},
   "source": [
    "## Массовое возведение в степень"
   ]
  },
  {
   "cell_type": "code",
   "execution_count": null,
   "id": "493e9fd7",
   "metadata": {},
   "outputs": [],
   "source": [
    "N = int(input())\n",
    "numbers = []\n",
    "for i in range(N):\n",
    "    number = int(input())\n",
    "    numbers.append(number)\n",
    "p = int(input())\n",
    "powers = []\n",
    "for i in range(N):\n",
    "    powers.append(numbers[i] ** p)\n",
    "for i in powers:\n",
    "    print(i)"
   ]
  },
  {
   "cell_type": "markdown",
   "id": "285db09a",
   "metadata": {},
   "source": [
    "## НОД 3.0"
   ]
  },
  {
   "cell_type": "code",
   "execution_count": null,
   "id": "6f18510b",
   "metadata": {},
   "outputs": [],
   "source": [
    "nums = input()\n",
    "gcds = []\n",
    "numbers = []\n",
    "nums = nums.rsplit()\n",
    "for i in nums:\n",
    "    numbers.append(int(i))\n",
    "\n",
    "for i in range(len(numbers) - 1):\n",
    "    if i == 0:\n",
    "        a = numbers[i]\n",
    "        b = numbers[i + 1]\n",
    "        while a != 0 and b != 0:\n",
    "            if a > b:\n",
    "                a = a % b\n",
    "            else:\n",
    "                b = b % a\n",
    "        gcds.append(a + b)\n",
    "\n",
    "    else:\n",
    "        a = gcds[i - 1]\n",
    "        b = numbers[i + 1]\n",
    "        while a != 0 and b != 0:\n",
    "            if a > b:\n",
    "                a = a % b\n",
    "            else:\n",
    "                b = b % a\n",
    "        gcds.append(a + b)\n",
    "\n",
    "print(gcds[-1])"
   ]
  },
  {
   "cell_type": "markdown",
   "id": "f0c58d87",
   "metadata": {},
   "source": [
    "## RLE"
   ]
  },
  {
   "cell_type": "code",
   "execution_count": null,
   "id": "d16924c7",
   "metadata": {},
   "outputs": [],
   "source": [
    "raw = input()\n",
    "\n",
    "counts = []\n",
    "counter = 1\n",
    "\n",
    "for i in range(1, len(raw)):\n",
    "    if raw[i - 1] == raw[i]:\n",
    "        counter += 1\n",
    "    else:\n",
    "        counts.append(counter)\n",
    "        counter = 1\n",
    "    if i == len(raw) - 1:\n",
    "        counts.append(counter)\n",
    "\n",
    "index = 0\n",
    "for i in counts:\n",
    "    print(f'{raw[index]} {i}')\n",
    "    index += i"
   ]
  },
  {
   "cell_type": "markdown",
   "id": "e8d890f8",
   "metadata": {},
   "source": [
    "![](res1.png)"
   ]
  },
  {
   "cell_type": "markdown",
   "id": "a8b86d79",
   "metadata": {},
   "source": [
    "![](res2.png)"
   ]
  },
  {
   "cell_type": "markdown",
   "id": "8b2f01b0",
   "metadata": {},
   "source": [
    "![](res3.png)"
   ]
  },
  {
   "cell_type": "markdown",
   "id": "a346d271",
   "metadata": {},
   "source": [
    "# Множества, словари:"
   ]
  },
  {
   "cell_type": "markdown",
   "id": "f4911a04",
   "metadata": {},
   "source": [
    "## Символическая разница"
   ]
  },
  {
   "cell_type": "code",
   "execution_count": null,
   "id": "a616d505",
   "metadata": {},
   "outputs": [],
   "source": [
    "a = input()\n",
    "b = input()\n",
    "l_a = set()\n",
    "l_b = set()\n",
    "\n",
    "for i in a:\n",
    "    l_a.add(i)\n",
    "\n",
    "for i in b:\n",
    "    l_b.add(i)\n",
    "\n",
    "l_a = l_a.intersection(l_b)\n",
    "\n",
    "res = ''\n",
    "for i in l_a:\n",
    "    res += i\n",
    "print(res)"
   ]
  },
  {
   "cell_type": "markdown",
   "id": "2ef12491",
   "metadata": {},
   "source": [
    "## Зайка — 8"
   ]
  },
  {
   "cell_type": "code",
   "execution_count": null,
   "id": "214af018",
   "metadata": {},
   "outputs": [],
   "source": [
    "N = int(input())\n",
    "uw = set()\n",
    "for i in range(N):\n",
    "    words = input()\n",
    "    words = words.rsplit()\n",
    "    for word in words:\n",
    "        uw.add(word)\n",
    "for i in uw:\n",
    "    print(i)\n"
   ]
  },
  {
   "cell_type": "markdown",
   "id": "a34633d1",
   "metadata": {},
   "source": [
    "## Кашееды"
   ]
  },
  {
   "cell_type": "code",
   "execution_count": null,
   "id": "623fb4e0",
   "metadata": {},
   "outputs": [],
   "source": [
    "N = int(input())\n",
    "M = int(input())\n",
    "\n",
    "ovs = set()\n",
    "man = set()\n",
    "\n",
    "for i in range(N):\n",
    "    fname = input()\n",
    "    ovs.add(fname)\n",
    "\n",
    "for i in range(M):\n",
    "    fname = input()\n",
    "    man.add(fname)\n",
    "\n",
    "man = man.intersection(ovs)\n",
    "\n",
    "if len(man) == 0:\n",
    "    print('Таких нет')\n",
    "else:\n",
    "    print(len(man))\n"
   ]
  },
  {
   "cell_type": "markdown",
   "id": "aa9add92",
   "metadata": {},
   "source": [
    "## Зайка — 9"
   ]
  },
  {
   "cell_type": "code",
   "execution_count": null,
   "id": "70a812d4",
   "metadata": {},
   "outputs": [],
   "source": [
    "uw = set()\n",
    "all_words = []\n",
    "while (words := input()):\n",
    "    if(words == ''):\n",
    "        break\n",
    "    words = words.rsplit()\n",
    "    for word in words:\n",
    "        all_words.append(word)\n",
    "        uw.add(word)\n",
    "count = dict.fromkeys(uw, 0)\n",
    "for i in all_words:\n",
    "    count[i] += 1\n",
    "\n",
    "for (k, v) in count.items():\n",
    "    print(f'{k} {v}')\n",
    "\n"
   ]
  },
  {
   "cell_type": "markdown",
   "id": "1791e13e",
   "metadata": {},
   "source": [
    "## Транслитерация"
   ]
  },
  {
   "cell_type": "code",
   "execution_count": null,
   "id": "9ded1ea8",
   "metadata": {},
   "outputs": [],
   "source": [
    "letter_dic = {\n",
    "    'А': 'A',\n",
    "    'Б': 'B',\n",
    "    'В': 'V',\n",
    "    'Г': 'G',\n",
    "    'Д': 'D',\n",
    "    'Е': 'E',\n",
    "    'Ё': 'E',\n",
    "    'Ж': 'Zh',\n",
    "    'З': 'Z',\n",
    "    'И': 'I',\n",
    "    'Й': 'I',\n",
    "    'К': 'K',\n",
    "    'Л': 'L',\n",
    "    'М': 'M',\n",
    "    'Н': 'N',\n",
    "    'О': 'O',\n",
    "    'П': 'P',\n",
    "    'Р': 'R',\n",
    "    'С': 'S',\n",
    "    'Т': 'T',\n",
    "    'У': 'U',\n",
    "    'Ф': 'F',\n",
    "    'Х': 'Kh',\n",
    "    'Ц': 'Tc',\n",
    "    'Ч': 'Ch',\n",
    "    'Ш': 'Sh',\n",
    "    'Щ': 'Shch',\n",
    "    'Ы': 'Y',\n",
    "    'Э': 'E',\n",
    "    'Ю': 'Iu',\n",
    "    'Я': 'Ia'\n",
    "}\n",
    "sen = input()\n",
    "new_sen = ''\n",
    "\n",
    "ks = []\n",
    "\n",
    "for k in list(letter_dic.keys()):\n",
    "    ks.append(k.lower())\n",
    "\n",
    "for let in sen:\n",
    "    if let in list(letter_dic.keys()):\n",
    "        new_sen += letter_dic[let]\n",
    "    elif let in ks:\n",
    "        new_sen += (letter_dic[let.upper()]).lower()\n",
    "    elif let in ('ь', 'Ь', 'ъ', 'Ъ'):\n",
    "        continue\n",
    "    else:\n",
    "        new_sen += let\n",
    "\n",
    "print(new_sen)"
   ]
  },
  {
   "cell_type": "markdown",
   "id": "d624d9fc",
   "metadata": {},
   "source": [
    "## Однофамильцы"
   ]
  },
  {
   "cell_type": "code",
   "execution_count": null,
   "id": "b844178f",
   "metadata": {},
   "outputs": [],
   "source": [
    "N = int(input())\n",
    "\n",
    "last_names = dict()\n",
    "\n",
    "for i in range(N):\n",
    "    last_name = input()\n",
    "    if last_name in list(last_names.keys()):\n",
    "        last_names[last_name] += 1\n",
    "    else:\n",
    "        last_names[last_name] = 1\n",
    "\n",
    "res = 0\n",
    "\n",
    "print(last_names)\n",
    "\n",
    "for (k, v) in last_names.items():\n",
    "    if v > 1:\n",
    "        res += v\n",
    "print(res)"
   ]
  },
  {
   "cell_type": "markdown",
   "id": "87f828d5",
   "metadata": {},
   "source": [
    "## Друзья друзей"
   ]
  },
  {
   "cell_type": "code",
   "execution_count": null,
   "id": "d07da244",
   "metadata": {},
   "outputs": [],
   "source": [
    "familiarity = dict()\n",
    "\n",
    "while (names := input()):\n",
    "    if names == '':\n",
    "        break\n",
    "    names = names.rsplit()\n",
    "    if names[0] not in list(familiarity.keys()):\n",
    "        familiarity[names[0]] = {names[1], }\n",
    "    else:\n",
    "        familiarity[names[0]].add(names[1])\n",
    "    if names[1] not in list(familiarity.keys()):\n",
    "        familiarity[names[1]] = {names[0], }\n",
    "    else:\n",
    "        familiarity[names[1]].add(names[0])\n",
    "res = dict()\n",
    "for (k, v) in familiarity.items():\n",
    "    for i in v:\n",
    "        for j in familiarity[i]:\n",
    "            if j not in familiarity[k] and j != k:\n",
    "                if k not in list(res.keys()):\n",
    "                    res[k] = [j]\n",
    "                elif j not in res[k]:\n",
    "                    res[k].append(j)\n",
    "\n",
    "\n",
    "for (k, v) in familiarity.items():\n",
    "    if k not in list(res.keys()):\n",
    "        res[k] = []\n",
    "\n",
    "res = dict(sorted(res.items()))\n",
    "\n",
    "for (k, v) in res.items():\n",
    "    res[k].sort()\n",
    "\n",
    "for (k, v) in res.items():\n",
    "    print(f'{k}: ', end='')\n",
    "    for i, val in enumerate(v):\n",
    "        print(f'{val}', end='')\n",
    "        if i != len(v) - 1:\n",
    "            print(', ', end='')\n",
    "    print()"
   ]
  },
  {
   "cell_type": "markdown",
   "id": "c48f5ed4",
   "metadata": {},
   "source": [
    "## Простая задача 4.0"
   ]
  },
  {
   "cell_type": "code",
   "execution_count": null,
   "id": "b720b299",
   "metadata": {},
   "outputs": [],
   "source": [
    "nums = input()\n",
    "\n",
    "nums = nums.rsplit(\"; \")\n",
    "nums1 = [int(i) for i in nums]\n",
    "nums = sorted(nums1)\n",
    "res = dict()\n",
    "\n",
    "for num in nums:\n",
    "    for snum in nums:\n",
    "        a = int(num)\n",
    "        b = int(snum)\n",
    "        if a == b:\n",
    "            continue\n",
    "        while a != 0 and b != 0:\n",
    "            if a > b:\n",
    "                a = a % b\n",
    "            else:\n",
    "                b = b % a\n",
    "        if a + b == 1:\n",
    "            if num not in list(res.keys()):\n",
    "                res[num] = [snum]\n",
    "            elif snum not in res[num]:\n",
    "                res[num].append(snum)\n",
    "\n",
    "res = dict(sorted(res.items()))\n",
    "\n",
    "for (k, v) in res.items():\n",
    "    print(f'{k} - ', end=\"\")\n",
    "    for i, el in enumerate(v):\n",
    "        print(el, end=\"\")\n",
    "        if i != len(v) - 1:\n",
    "            print(', ', end=\"\")\n",
    "        else:\n",
    "            print()"
   ]
  },
  {
   "cell_type": "markdown",
   "id": "f1c6bee5",
   "metadata": {},
   "source": [
    "![](res4.png)"
   ]
  },
  {
   "cell_type": "markdown",
   "id": "d379fc77",
   "metadata": {},
   "source": [
    "![](res5.png)"
   ]
  },
  {
   "cell_type": "markdown",
   "id": "18fb835f",
   "metadata": {},
   "source": [
    "![](res6.png)"
   ]
  },
  {
   "cell_type": "markdown",
   "id": "1c2148e8",
   "metadata": {},
   "source": [
    "# Списочные выражения:"
   ]
  },
  {
   "cell_type": "markdown",
   "id": "313b7997",
   "metadata": {},
   "source": [
    "## Список квадратов"
   ]
  },
  {
   "cell_type": "code",
   "execution_count": null,
   "id": "d50cc440",
   "metadata": {},
   "outputs": [],
   "source": [
    "[i ** 2 for i in range(a, b + 1)]"
   ]
  },
  {
   "cell_type": "markdown",
   "id": "15d5d9b8",
   "metadata": {},
   "source": [
    "## Таблица умножения 2.0"
   ]
  },
  {
   "cell_type": "code",
   "execution_count": null,
   "id": "e30ecfc7",
   "metadata": {},
   "outputs": [],
   "source": [
    "[[i * j for i in range(1, n + 1)] for j in range(1, n + 1)]"
   ]
  },
  {
   "cell_type": "markdown",
   "id": "6394325f",
   "metadata": {},
   "source": [
    "## Длины всех слов"
   ]
  },
  {
   "cell_type": "code",
   "execution_count": null,
   "id": "df1e17e0",
   "metadata": {},
   "outputs": [],
   "source": [
    "[len(i) for i in sentence.rsplit()]"
   ]
  },
  {
   "cell_type": "markdown",
   "id": "83ddca76",
   "metadata": {},
   "source": [
    "## Множество нечетных чисел"
   ]
  },
  {
   "cell_type": "code",
   "execution_count": null,
   "id": "9c78e9cb",
   "metadata": {},
   "outputs": [],
   "source": [
    "{i for i in numbers if i % 2 == 1}"
   ]
  },
  {
   "cell_type": "markdown",
   "id": "def4159a",
   "metadata": {},
   "source": [
    "## Множество всех полных квадратов"
   ]
  },
  {
   "cell_type": "code",
   "execution_count": null,
   "id": "adc415e6",
   "metadata": {},
   "outputs": [],
   "source": [
    "{i for i in numbers if i ** 0.5 - int(i ** 0.5) == 0}"
   ]
  },
  {
   "cell_type": "markdown",
   "id": "9ab519fc",
   "metadata": {},
   "source": [
    "## Буквенная статистика"
   ]
  },
  {
   "cell_type": "code",
   "execution_count": null,
   "id": "f03d5677",
   "metadata": {},
   "outputs": [],
   "source": [
    "{i: text.lower().count(i) for i in text.lower() if str(i).isalpha()}"
   ]
  },
  {
   "cell_type": "markdown",
   "id": "bc746d66",
   "metadata": {},
   "source": [
    "## Делители"
   ]
  },
  {
   "cell_type": "code",
   "execution_count": null,
   "id": "588f42f2",
   "metadata": {},
   "outputs": [],
   "source": [
    "{i: [k for k in range(1, i + 1) if i % k == 0] for i in numbers}"
   ]
  },
  {
   "cell_type": "markdown",
   "id": "6763b603",
   "metadata": {},
   "source": [
    "## Аббревиатура"
   ]
  },
  {
   "cell_type": "code",
   "execution_count": null,
   "id": "887e5567",
   "metadata": {},
   "outputs": [],
   "source": [
    "string = 'Российская Федерация'"
   ]
  },
  {
   "cell_type": "code",
   "execution_count": null,
   "id": "418f64bc",
   "metadata": {},
   "outputs": [],
   "source": [
    "''.join(str(i[0]).upper() for i in string.split())"
   ]
  },
  {
   "cell_type": "markdown",
   "id": "005b48ca",
   "metadata": {},
   "source": [
    "## Преобразование в строку"
   ]
  },
  {
   "cell_type": "code",
   "execution_count": null,
   "id": "4eb3c33e",
   "metadata": {},
   "outputs": [],
   "source": [
    "numbers = [3, 1, 2, 3, 2, 2, 1] # не знаю, но почему-то не принял)"
   ]
  },
  {
   "cell_type": "code",
   "execution_count": null,
   "id": "1c91cfbf",
   "metadata": {},
   "outputs": [],
   "source": [
    "''.join(str(i) + ' - ' if i != max(numbers) else str(i) for i in sorted(set(numbers)))"
   ]
  },
  {
   "cell_type": "markdown",
   "id": "d3a93723",
   "metadata": {},
   "source": [
    "## RLE наоборот"
   ]
  },
  {
   "cell_type": "code",
   "execution_count": null,
   "id": "01241c01",
   "metadata": {},
   "outputs": [],
   "source": [
    "rle = [('a', 2), ('b', 3), ('c', 1)]"
   ]
  },
  {
   "cell_type": "code",
   "execution_count": null,
   "id": "deccdba3",
   "metadata": {},
   "outputs": [],
   "source": [
    "''.join(c * n for c, n in rle)"
   ]
  },
  {
   "cell_type": "markdown",
   "id": "fc660066",
   "metadata": {},
   "source": [
    "![](res7.png)"
   ]
  },
  {
   "cell_type": "markdown",
   "id": "e2beb5c4",
   "metadata": {},
   "source": [
    "![](res8.png)"
   ]
  }
 ],
 "metadata": {
  "kernelspec": {
   "display_name": "Python 3 (ipykernel)",
   "language": "python",
   "name": "python3"
  },
  "language_info": {
   "codemirror_mode": {
    "name": "ipython",
    "version": 3
   },
   "file_extension": ".py",
   "mimetype": "text/x-python",
   "name": "python",
   "nbconvert_exporter": "python",
   "pygments_lexer": "ipython3",
   "version": "3.9.16"
  }
 },
 "nbformat": 4,
 "nbformat_minor": 5
}
